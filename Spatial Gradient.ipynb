{
 "cells": [
  {
   "cell_type": "code",
   "execution_count": 2,
   "id": "0387b86c",
   "metadata": {},
   "outputs": [],
   "source": [
    "import cv2\n",
    "import numpy as  np\n",
    "import matplotlib.pyplot as plt"
   ]
  },
  {
   "cell_type": "code",
   "execution_count": 3,
   "id": "b2b8880b",
   "metadata": {},
   "outputs": [],
   "source": [
    "### File directory\n",
    "datadir = './data/trainingData'\n",
    "trainingFace = '/face/' #184\n",
    "trainingBackground = '/background/' #249"
   ]
  },
  {
   "cell_type": "code",
   "execution_count": 21,
   "id": "1cb1daeb",
   "metadata": {},
   "outputs": [
    {
     "name": "stdout",
     "output_type": "stream",
     "text": [
      "[   0.  194. 1222. 2210. 1950.  882.  236.  396.  248.  788. 1526. 1624.\n",
      " 1022.  346.    0.]\n",
      "[   0.          194.         1222.         2210.         1950.\n",
      "  882.          236.          396.          248.          788.\n",
      " 1526.         1624.         1022.          346.            0.\n",
      "  578.         1107.02935824 2569.190534   3135.2428933  2096.09207813\n",
      "  327.95121588 1039.0235801  1296.5376971   881.34556219  204.68512403\n",
      " 1684.70116044 2401.32171939 1803.77049538  741.35686413  230.\n",
      " 1416.         2371.69348778 3335.64986172 2100.96406442  809.70117945\n",
      " 3386.87407501 4734.0152091  5044.95014842 4813.74552713 3667.11685115\n",
      " 1080.05370237 1805.81283637 2713.399344   1603.6720363   470.\n",
      " 1804.         2848.70672411 2207.73413254 1234.31276425 4779.38092225\n",
      " 6655.76742382 7034.5399281  6990.3683737  7045.494021   7080.68358282\n",
      " 5344.87904447 1108.12634659 2430.1522586  2535.12050996  886.\n",
      " 1524.         2486.45490609  345.61539318 4083.79260002 6490.2143262\n",
      " 6157.03516313 4705.14803168 3947.11286892 4187.98519577 6062.36422528\n",
      " 7318.1708097  4386.1623317   793.9395443  2763.03782095 1022.\n",
      " 1254.         1840.71725151 1594.00690086 5516.56451064 5887.95805012\n",
      " 4013.20943884 1938.43287219  781.29763855  937.29931185 3311.22817094\n",
      " 6238.73224301 5705.99211356 1111.82192819 2240.18972411  678.\n",
      " 1050.          840.78653652 2913.91729464 5398.5494348  4217.16611008\n",
      " 3939.89466864 4282.46844705 3853.05618957 3898.23447217 4433.77987726\n",
      " 4918.14294221 4857.35504158 1714.51042575 1536.03255174  346.\n",
      "  382.          610.05245676 3618.80781474 3908.8028858  2719.86617318\n",
      " 4446.37132952 5310.15103363 4855.88879609 4951.12310491 5328.15390168\n",
      " 4273.98923723 3038.49568043 1504.15757153  792.36986313  338.\n",
      "  814.         2057.85762384 3925.70630588 2379.28392589  705.25172811\n",
      " 1444.6847407  2478.89410827 1846.74524502 1975.69481449 2363.15890282\n",
      "  830.65275537  964.24581928 2047.59419808  848.3030119    72.\n",
      " 2072.         3116.9270123  4412.67356599 3115.18506673 3098.54288336\n",
      " 3035.47689828 3572.38127864 3361.85454772 3548.50729181 3950.64754186\n",
      " 3696.05302992 3795.92650087 3741.86183604 2755.85558402 1070.\n",
      " 2722.         3429.03426638 4389.08464261 3164.45824747 3254.73839194\n",
      " 3654.86661863 3269.83332909 2433.22214358 2441.28040176 3675.31930586\n",
      " 4051.54513735 3367.4242382  3724.40008592 3384.0653067  1310.\n",
      " 2154.         2583.93885377 3099.55480674 1896.88692336  232.0344802\n",
      "  636.43538557  439.72718815 1861.39356397 1789.73573468  397.4845909\n",
      "  504.0674558  1414.04738252 3688.41700462 3142.78666155  540.\n",
      "   78.         1261.40952906 2216.69528804 2208.77386801 2038.16829531\n",
      " 2162.44768723 2776.23990318 3034.61958077 3383.37109995 3085.85482484\n",
      " 2516.17884897 3345.18310411 4368.14125229 3273.87140859 1708.\n",
      " 2294.         2601.3919351  3069.49670142 2534.15469141 1796.83499521\n",
      " 1908.77133256 2032.25195288 1396.59299726 1886.21631845 2757.47166803\n",
      " 2937.77126407 3760.17286837 4066.63743159 2360.06991422 1116.\n",
      " 1686.         1997.40081105 2968.80211533 2870.54036725 1285.55435513\n",
      "  506.42669756  727.20011001  911.88705441  388.10823233  758.60134458\n",
      " 2065.13534665 3370.84559124 2807.96759241  589.73383827  188.\n",
      "  392.          462.92980029 1763.14775331 2753.18760712 1464.94095444\n",
      "  402.05720986  193.5458602   610.86987158  662.77296264 1138.61846112\n",
      " 2210.34657916 2162.04532792  490.20199918 2407.24448281 2692.\n",
      "  794.         1136.86762642 1237.20976394 2347.01043883 1290.46425754\n",
      " 1043.65894812 1519.18530799 1849.76647175 2168.07564444 2480.73416552\n",
      " 1935.90960533  574.47367216 3466.4708278  4592.54439282 4342.\n",
      "  136.          890.15616607 1152.46952237 2072.34167067  753.12681535\n",
      "  687.30924626 1634.09975216 2398.53288491 2643.98071097 1969.57355791\n",
      "  289.46847842 3257.38606861 4812.45903879 3877.43471899 3080.\n",
      "   22.          509.16598472 1222.61686558 1976.72253996  785.39798828\n",
      " 1115.33044431 1640.44018483 1461.05167602 1067.79117809  340.82840257\n",
      " 2256.94483761 4471.24188565 4062.4635383  1836.31478783 1116.\n",
      "    0.          292.         1216.         1912.          618.\n",
      " 1118.         1966.         1612.          710.          632.\n",
      " 2782.         4468.         3176.          406.            0.        ]\n"
     ]
    },
    {
     "data": {
      "image/png": "[encoded data removed]",
      "text/plain": [
       "<Figure size 576x288 with 3 Axes>"
      ]
     },
     "metadata": {},
     "output_type": "display_data"
    }
   ],
   "source": [
    "img  = cv2.imread('./data/trainingData/face/030.jpg')\n",
    "gray = cv2.cvtColor(img, cv2.COLOR_BGR2GRAY)\n",
    "\n",
    "gX = cv2.Sobel(gray,cv2.CV_64F,1,0,ksize=5)\n",
    "gY = cv2.Sobel(gray,cv2.CV_64F,0,1,ksize=5)\n",
    "\n",
    "magnitude = np.sqrt((gX ** 2) + (gY ** 2))\n",
    "# print(magnitude[0])\n",
    "print(magnitude.flatten())\n",
    "\n",
    "# gX = cv2.convertScaleAbs(gX)\n",
    "# gY = cv2.convertScaleAbs(gY)\n",
    "# combined = cv2.addWeighted(gX, 0.5, gY, 0.5, 0)\n",
    "\n",
    "# (fig, axs) = plt.subplots(nrows=1, ncols=3, figsize=(8, 4))\n",
    "\n",
    "# # plot each of the images\n",
    "# axs[0].imshow(gray, cmap=\"gray\")\n",
    "# axs[1].imshow(magnitude, cmap=\"jet\")\n",
    "# axs[2].imshow(orientation, cmap=\"jet\")\n",
    "\n",
    "# axs[0].set_title(\"Grayscale\")\n",
    "# axs[1].set_title(\"Gradient Magnitude\")\n",
    "# axs[2].set_title(\"Gradient Orientation [0, 180]\")\n",
    "\n",
    "# # loop over each of the axes and turn off the x and y ticks\n",
    "# for i in range(0, 3):\n",
    "#     axs[i].get_xaxis().set_ticks([])\n",
    "#     axs[i].get_yaxis().set_ticks([])\n",
    "\n",
    "# # show the plots\n",
    "# plt.tight_layout()\n",
    "# plt.show()"
   ]
  },
  {
   "cell_type": "code",
   "execution_count": 24,
   "id": "52d6a7ac",
   "metadata": {},
   "outputs": [],
   "source": [
    "Pr_x_given_y_equalsTo_1 = np.zeros((300,184)) #likelihood for the face class\\\n",
    "Pr_x_given_y_equalsTo_0 = np.zeros((300,249)) #likelihood for the background class\n",
    "\n",
    "# face\n",
    "for i in range(184):\n",
    "\n",
    "    img  = cv2.imread(datadir + trainingFace + \"{0:03}\".format(i+1) + '.jpg')\n",
    "    gray = cv2.cvtColor(img, cv2.COLOR_BGR2GRAY)\n",
    "\n",
    "    gX = cv2.Sobel(gray,cv2.CV_64F,1,0,ksize=5)\n",
    "    gY = cv2.Sobel(gray,cv2.CV_64F,0,1,ksize=5)\n",
    "\n",
    "    magnitude = np.sqrt((gX ** 2) + (gY ** 2))\n",
    "    Pr_x_given_y_equalsTo_1[:,i] = magnitude.flatten()\n",
    "    \n",
    "# background\n",
    "for i in range(249):\n",
    "\n",
    "    img  = cv2.imread(datadir + trainingBackground + \"{0:03}\".format(i+1) + '.jpg')\n",
    "    gray = cv2.cvtColor(img, cv2.COLOR_BGR2GRAY)\n",
    "\n",
    "    gX = cv2.Sobel(gray,cv2.CV_64F,1,0,ksize=5)\n",
    "    gY = cv2.Sobel(gray,cv2.CV_64F,0,1,ksize=5)\n",
    "\n",
    "    magnitude = np.sqrt((gX ** 2) + (gY ** 2))\n",
    "    Pr_x_given_y_equalsTo_0[:,i] = magnitude.flatten()"
   ]
  },
  {
   "cell_type": "code",
   "execution_count": 37,
   "id": "d93944f6",
   "metadata": {},
   "outputs": [
    {
     "data": {
      "text/plain": [
       "array([[   0.,    0.,    0., ...,    0.,    0.,    0.],\n",
       "       [ 576.,  182.,  646., ..., 3212.,  100., 4680.],\n",
       "       [1106., 1008., 1242., ..., 4206.,  152., 6848.],\n",
       "       ...,\n",
       "       [4428.,  970., 2794., ..., 1754., 4936., 1864.],\n",
       "       [1048., 1758., 3394., ..., 1076., 3066., 2006.],\n",
       "       [   0.,    0.,    0., ...,    0.,    0.,    0.]])"
      ]
     },
     "execution_count": 37,
     "metadata": {},
     "output_type": "execute_result"
    }
   ],
   "source": [
    "Pr_x_given_y_equalsTo_1"
   ]
  },
  {
   "cell_type": "code",
   "execution_count": 33,
   "id": "8d8a386d",
   "metadata": {},
   "outputs": [
    {
     "name": "stdout",
     "output_type": "stream",
     "text": [
      "(300,)\n"
     ]
    }
   ],
   "source": [
    "# Face\n",
    "Pr_x_given_y_equalsTo_1_mu = np.average(Pr_x_given_y_equalsTo_1,axis=1) \n",
    "print(Pr_x_given_y_equalsTo_1_mu.shape)\n",
    "Pr_x_given_y_equalsTo_1_var = np.var(Pr_x_given_y_equalsTo_1, axis=1)"
   ]
  },
  {
   "cell_type": "code",
   "execution_count": 26,
   "id": "bc77e44f",
   "metadata": {},
   "outputs": [],
   "source": [
    "Pr_x_given_y_equalsTo_1_dia = np.diag(Pr_x_given_y_equalsTo_1_var)"
   ]
  },
  {
   "cell_type": "code",
   "execution_count": 27,
   "id": "9a419642",
   "metadata": {},
   "outputs": [],
   "source": [
    "# Background\n",
    "Pr_x_given_y_equalsTo_0_mu = np.average(Pr_x_given_y_equalsTo_0,axis=1) \n",
    "Pr_x_given_y_equalsTo_0_var = np.var(Pr_x_given_y_equalsTo_0, axis=1)"
   ]
  },
  {
   "cell_type": "code",
   "execution_count": 28,
   "id": "f78ccb20",
   "metadata": {},
   "outputs": [],
   "source": [
    "Pr_x_given_y_equalsTo_0_dia = np.diag(Pr_x_given_y_equalsTo_0_var)"
   ]
  },
  {
   "cell_type": "code",
   "execution_count": 36,
   "id": "d0329ab2",
   "metadata": {},
   "outputs": [
    {
     "name": "stderr",
     "output_type": "stream",
     "text": [
      "/tmp/ipykernel_476/3937493333.py:7: RuntimeWarning: divide by zero encountered in log\n",
      "  first = -0.5*np.sum(np.log(o))\n",
      "/tmp/ipykernel_476/3937493333.py:8: RuntimeWarning: invalid value encountered in true_divide\n",
      "  second = np.sum(np.divide(np.power(np.subtract(x,u),2),2*o))\n"
     ]
    }
   ],
   "source": [
    "## Testing\n",
    "datadir = './data/testingData'\n",
    "testingFace = '/face/' #232\n",
    "testingBackground = '/background/' #564\n",
    "\n",
    "def norm(x,u,o):\n",
    "    first = -0.5*np.sum(np.log(o))\n",
    "    second = np.sum(np.divide(np.power(np.subtract(x,u),2),2*o))\n",
    "    return first - second\n",
    "\n",
    "Pr_x_given_y_equalsTo_1_result = np.zeros(232)\n",
    "\n",
    "# face\n",
    "for i in range(232):\n",
    "    img  = cv2.imread(datadir + testingFace + \"{0:03}\".format(i+1) + '.jpg')\n",
    "    gray = cv2.cvtColor(img, cv2.COLOR_BGR2GRAY)\n",
    "\n",
    "    gX = cv2.Sobel(gray,cv2.CV_64F,1,0,ksize=5)\n",
    "    gY = cv2.Sobel(gray,cv2.CV_64F,0,1,ksize=5)\n",
    "\n",
    "    magnitude = np.sqrt((gX ** 2) + (gY ** 2)).flatten()\n",
    "# #     print(magnitude.shape)\n",
    "    \n",
    "    if norm(magnitude,Pr_x_given_y_equalsTo_1_mu,Pr_x_given_y_equalsTo_1_var) > norm(magnitude,Pr_x_given_y_equalsTo_0_mu,Pr_x_given_y_equalsTo_0_var):\n",
    "        Pr_x_given_y_equalsTo_1_result[i] = 1\n",
    "    else:\n",
    "        Pr_x_given_y_equalsTo_1_result[i] = 0\n",
    "\n",
    "Pr_x_given_y_equalsTo_0_result = np.zeros(564)\n",
    "\n",
    "# # background\n",
    "# for i in range(564):\n",
    "\n",
    "#     img  = cv2.imread(datadir + testingBackground + \"{0:03}\".format(i+1) + '.jpg')\n",
    "#     gray = cv2.cvtColor(img, cv2.COLOR_BGR2GRAY)\n",
    "\n",
    "#     gX = cv2.Sobel(gray,cv2.CV_64F,1,0,ksize=5)\n",
    "#     gY = cv2.Sobel(gray,cv2.CV_64F,0,1,ksize=5)\n",
    "\n",
    "#     magnitude = np.sqrt((gX ** 2) + (gY ** 2)).flatten()\n",
    "            \n",
    "#     if norm(magnitude,Pr_x_given_y_equalsTo_1_mu,Pr_x_given_y_equalsTo_1_var) > norm(magnitude,Pr_x_given_y_equalsTo_0_mu,Pr_x_given_y_equalsTo_0_var):\n",
    "#         Pr_x_given_y_equalsTo_1_result[i] = 1\n",
    "#     else:\n",
    "#         Pr_x_given_y_equalsTo_1_result[i] = 0\n"
   ]
  },
  {
   "cell_type": "code",
   "execution_count": null,
   "id": "2e3f2f34",
   "metadata": {},
   "outputs": [],
   "source": []
  }
 ],
 "metadata": {
  "kernelspec": {
   "display_name": "Python 3 (ipykernel)",
   "language": "python",
   "name": "python3"
  },
  "language_info": {
   "codemirror_mode": {
    "name": "ipython",
    "version": 3
   },
   "file_extension": ".py",
   "mimetype": "text/x-python",
   "name": "python",
   "nbconvert_exporter": "python",
   "pygments_lexer": "ipython3",
   "version": "3.9.7"
  }
 },
 "nbformat": 4,
 "nbformat_minor": 5
}
