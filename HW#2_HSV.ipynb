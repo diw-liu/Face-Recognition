{
 "cells": [
  {
   "cell_type": "code",
   "execution_count": 1,
   "id": "d6cb6508",
   "metadata": {},
   "outputs": [],
   "source": [
    "import cv2\n",
    "import numpy as  np\n",
    "import matplotlib.pyplot as plt"
   ]
  },
  {
   "cell_type": "code",
   "execution_count": 2,
   "id": "20b9a41e",
   "metadata": {},
   "outputs": [],
   "source": [
    "### File directory\n",
    "datadir = './data/trainingData'\n",
    "trainingFace = '/face/' #184\n",
    "trainingBackground = '/background/' #249"
   ]
  },
  {
   "cell_type": "code",
   "execution_count": 3,
   "id": "35c0d91b",
   "metadata": {},
   "outputs": [],
   "source": [
    "Pr_x_given_y_equalsTo_1 = np.zeros((900,184)) #likelihood for the face class\\\n",
    "Pr_x_given_y_equalsTo_0 = np.zeros((900,249)) #likelihood for the background class\n",
    "\n",
    "# face\n",
    "for i in range(184):\n",
    "\n",
    "    origIm = cv2.imread(datadir + trainingFace + \"{0:03}\".format(i+1) + '.jpg')\n",
    "    HSV = cv2.cvtColor(origIm,cv2.COLOR_BGR2HSV)\n",
    "    nrows, ncols = HSV.shape[0], HSV.shape[1]\n",
    "    \n",
    "    for x in range(nrows):\n",
    "        for y in range(ncols):\n",
    "            h = HSV[x,y][0]\n",
    "            s = HSV[x,y][1]\n",
    "            v = HSV[x,y][2]\n",
    "            Pr_x_given_y_equalsTo_1[x*ncols+y, i] = h\n",
    "            Pr_x_given_y_equalsTo_1[x*ncols+y+300, i] = s\n",
    "            Pr_x_given_y_equalsTo_1[x*ncols+y+600, i] = v\n",
    "            \n",
    "# background\n",
    "for i in range(249):\n",
    "\n",
    "    origIm = cv2.imread(datadir + trainingBackground + \"{0:03}\".format(i+1) + '.jpg')\n",
    "    HSV = cv2.cvtColor(origIm,cv2.COLOR_BGR2HSV)\n",
    "    nrows, ncols = HSV.shape[0], HSV.shape[1]\n",
    "\n",
    "    for x in range(nrows):\n",
    "        for y in range(ncols):\n",
    "            h = HSV[x,y][0]\n",
    "            s = HSV[x,y][1]\n",
    "            v = HSV[x,y][2]\n",
    "            Pr_x_given_y_equalsTo_0[x*ncols+y, i] = h\n",
    "            Pr_x_given_y_equalsTo_0[x*ncols+y+300, i] = s\n",
    "            Pr_x_given_y_equalsTo_0[x*ncols+y+600, i] = v"
   ]
  },
  {
   "cell_type": "code",
   "execution_count": 4,
   "id": "b39a056e",
   "metadata": {},
   "outputs": [],
   "source": [
    "# Face\n",
    "Pr_x_given_y_equalsTo_1_mu = np.average(Pr_x_given_y_equalsTo_1,axis=1) \n",
    "Pr_x_given_y_equalsTo_1_var = np.var(Pr_x_given_y_equalsTo_1, axis=1)"
   ]
  },
  {
   "cell_type": "code",
   "execution_count": 5,
   "id": "e88638fe",
   "metadata": {},
   "outputs": [],
   "source": [
    "Pr_x_given_y_equalsTo_1_dia = np.diag(Pr_x_given_y_equalsTo_1_var)"
   ]
  },
  {
   "cell_type": "code",
   "execution_count": 6,
   "id": "03877c4b",
   "metadata": {},
   "outputs": [],
   "source": [
    "# Background\n",
    "Pr_x_given_y_equalsTo_0_mu = np.average(Pr_x_given_y_equalsTo_0,axis=1) \n",
    "Pr_x_given_y_equalsTo_0_var = np.var(Pr_x_given_y_equalsTo_0, axis=1)"
   ]
  },
  {
   "cell_type": "code",
   "execution_count": 7,
   "id": "20697481",
   "metadata": {},
   "outputs": [],
   "source": [
    "Pr_x_given_y_equalsTo_0_dia = np.diag(Pr_x_given_y_equalsTo_0_var)"
   ]
  },
  {
   "cell_type": "code",
   "execution_count": 8,
   "id": "0f79b4e7",
   "metadata": {},
   "outputs": [],
   "source": [
    "## Testing\n",
    "datadir = './data/testingData'\n",
    "testingFace = '/face/' #232\n",
    "testingBackground = '/background/' #564\n",
    "\n",
    "def norm(x,u,o):\n",
    "    first = -0.5*np.sum(np.log(o))\n",
    "    second = np.sum(np.divide(np.power(np.subtract(x,u),2),2*o))\n",
    "    return first - second\n",
    "\n",
    "Pr_x_given_y_equalsTo_1_result = np.zeros(232)\n",
    "\n",
    "# face\n",
    "for i in range(232):\n",
    "\n",
    "    origIm = cv2.imread(datadir + testingFace + \"{0:03}\".format(i+1) + '.jpg')\n",
    "    HSV = cv2.cvtColor(origIm,cv2.COLOR_BGR2HSV)\n",
    "    nrows, ncols = HSV.shape[0], HSV.shape[1]\n",
    "    \n",
    "    Pr_x_given_y_equalsTo_test = np.zeros(900)\n",
    "    \n",
    "    for x in range(nrows):\n",
    "        for y in range(ncols):\n",
    "            h = HSV[x,y][0]\n",
    "            s = HSV[x,y][1]\n",
    "            v = HSV[x,y][2]\n",
    "            Pr_x_given_y_equalsTo_test[x*ncols+y] = h\n",
    "            Pr_x_given_y_equalsTo_test[x*ncols+y+300] = s\n",
    "            Pr_x_given_y_equalsTo_test[x*ncols+y+600] = v\n",
    "            \n",
    "    if norm(Pr_x_given_y_equalsTo_test,Pr_x_given_y_equalsTo_1_mu,Pr_x_given_y_equalsTo_1_var) > norm(Pr_x_given_y_equalsTo_test,Pr_x_given_y_equalsTo_0_mu,Pr_x_given_y_equalsTo_0_var):\n",
    "        Pr_x_given_y_equalsTo_1_result[i] = 1\n",
    "    else:\n",
    "        Pr_x_given_y_equalsTo_1_result[i] = 0\n",
    "\n",
    "Pr_x_given_y_equalsTo_0_result = np.zeros(564)\n",
    "\n",
    "# background\n",
    "for i in range(564):\n",
    "\n",
    "    origIm = cv2.imread(datadir + testingBackground + \"{0:03}\".format(i+1) + '.jpg')\n",
    "    HSV = cv2.cvtColor(origIm,cv2.COLOR_BGR2HSV)\n",
    "    nrows, ncols = HSV.shape[0], HSV.shape[1]\n",
    "    \n",
    "    Pr_x_given_y_equalsTo_test = np.zeros(900)\n",
    "    \n",
    "    for x in range(nrows):\n",
    "        for y in range(ncols):\n",
    "            h = HSV[x,y][0]\n",
    "            s = HSV[x,y][1]\n",
    "            v = HSV[x,y][2]\n",
    "            Pr_x_given_y_equalsTo_test[x*ncols+y] = h\n",
    "            Pr_x_given_y_equalsTo_test[x*ncols+y+300] = s\n",
    "            Pr_x_given_y_equalsTo_test[x*ncols+y+600] = v\n",
    "            \n",
    "    if norm(Pr_x_given_y_equalsTo_test,Pr_x_given_y_equalsTo_1_mu,Pr_x_given_y_equalsTo_1_var) > norm(Pr_x_given_y_equalsTo_test,Pr_x_given_y_equalsTo_0_mu,Pr_x_given_y_equalsTo_0_var):\n",
    "        Pr_x_given_y_equalsTo_0_result[i] = 1\n",
    "    else:\n",
    "        Pr_x_given_y_equalsTo_0_result[i] = 0\n"
   ]
  },
  {
   "cell_type": "code",
   "execution_count": 9,
   "id": "7f2f233a",
   "metadata": {},
   "outputs": [
    {
     "data": {
      "text/plain": [
       "array([1., 1., 1., 1., 1., 1., 1., 1., 1., 1., 1., 1., 1., 1., 1., 1., 1.,\n",
       "       1., 1., 1., 0., 1., 1., 1., 1., 1., 1., 1., 1., 1., 1., 1., 1., 0.,\n",
       "       1., 1., 1., 1., 1., 1., 1., 0., 0., 1., 0., 1., 1., 1., 1., 1., 0.,\n",
       "       1., 1., 1., 1., 1., 1., 1., 1., 1., 1., 1., 1., 1., 1., 1., 1., 1.,\n",
       "       1., 1., 1., 1., 1., 1., 1., 1., 1., 1., 1., 1., 1., 1., 1., 1., 1.,\n",
       "       1., 1., 1., 1., 1., 1., 1., 1., 1., 1., 1., 0., 1., 1., 1., 1., 1.,\n",
       "       1., 1., 1., 1., 1., 1., 1., 1., 1., 1., 1., 1., 1., 1., 1., 1., 1.,\n",
       "       1., 1., 1., 1., 1., 1., 1., 1., 1., 1., 1., 1., 1., 1., 1., 1., 1.,\n",
       "       1., 1., 1., 1., 1., 1., 1., 1., 1., 1., 1., 1., 0., 1., 1., 1., 1.,\n",
       "       1., 1., 1., 1., 1., 1., 1., 1., 1., 1., 1., 1., 1., 1., 1., 1., 1.,\n",
       "       1., 1., 1., 1., 1., 1., 1., 1., 1., 1., 1., 1., 0., 1., 1., 1., 1.,\n",
       "       1., 1., 1., 1., 1., 1., 1., 1., 1., 1., 1., 1., 1., 1., 1., 1., 1.,\n",
       "       1., 1., 1., 1., 1., 1., 0., 0., 0., 1., 1., 0., 1., 1., 0., 1., 1.,\n",
       "       1., 1., 1., 0., 1., 1., 1., 1., 0., 1., 1.])"
      ]
     },
     "execution_count": 9,
     "metadata": {},
     "output_type": "execute_result"
    }
   ],
   "source": [
    "Pr_x_given_y_equalsTo_1_result"
   ]
  },
  {
   "cell_type": "code",
   "execution_count": 10,
   "id": "5cde38d1",
   "metadata": {},
   "outputs": [
    {
     "data": {
      "text/plain": [
       "array([0., 0., 0., 0., 1., 1., 0., 1., 0., 0., 0., 0., 0., 0., 1., 0., 1.,\n",
       "       0., 0., 1., 0., 1., 0., 0., 0., 0., 0., 1., 1., 0., 1., 0., 0., 0.,\n",
       "       0., 0., 0., 0., 0., 1., 1., 0., 0., 0., 0., 0., 0., 0., 0., 0., 0.,\n",
       "       1., 0., 1., 1., 0., 0., 0., 0., 0., 0., 1., 1., 1., 0., 0., 1., 0.,\n",
       "       0., 0., 0., 0., 0., 0., 0., 1., 0., 0., 1., 0., 0., 0., 0., 0., 1.,\n",
       "       0., 0., 0., 0., 0., 1., 0., 0., 1., 0., 1., 0., 1., 0., 0., 1., 0.,\n",
       "       0., 0., 1., 0., 0., 0., 0., 0., 0., 0., 0., 0., 1., 0., 1., 1., 0.,\n",
       "       1., 0., 0., 0., 1., 0., 0., 1., 0., 0., 0., 0., 1., 0., 1., 0., 0.,\n",
       "       0., 0., 0., 0., 0., 0., 0., 0., 0., 0., 1., 0., 1., 0., 1., 0., 0.,\n",
       "       0., 1., 0., 0., 0., 0., 0., 0., 0., 1., 1., 0., 0., 0., 0., 0., 0.,\n",
       "       0., 0., 0., 0., 0., 0., 1., 0., 0., 0., 0., 0., 0., 1., 1., 0., 0.,\n",
       "       0., 0., 0., 0., 0., 0., 0., 0., 0., 0., 0., 0., 0., 0., 0., 0., 0.,\n",
       "       0., 0., 1., 0., 0., 0., 0., 0., 0., 0., 0., 0., 0., 1., 0., 0., 0.,\n",
       "       1., 0., 0., 1., 0., 0., 0., 0., 0., 0., 0., 0., 0., 0., 0., 0., 0.,\n",
       "       0., 1., 1., 0., 0., 0., 0., 1., 0., 0., 1., 1., 1., 0., 0., 0., 0.,\n",
       "       0., 0., 0., 0., 0., 1., 1., 0., 0., 0., 0., 0., 0., 1., 0., 0., 0.,\n",
       "       0., 1., 0., 0., 0., 0., 0., 0., 0., 0., 0., 0., 0., 0., 0., 0., 0.,\n",
       "       1., 0., 0., 0., 0., 0., 0., 0., 0., 0., 0., 0., 0., 0., 1., 0., 0.,\n",
       "       0., 1., 1., 1., 1., 0., 0., 0., 0., 0., 0., 1., 0., 1., 0., 0., 0.,\n",
       "       0., 0., 0., 0., 0., 1., 0., 1., 0., 0., 1., 0., 0., 0., 0., 0., 1.,\n",
       "       0., 0., 0., 1., 0., 0., 0., 1., 0., 0., 1., 0., 0., 0., 0., 0., 0.,\n",
       "       1., 0., 0., 0., 0., 0., 1., 0., 1., 0., 0., 0., 0., 0., 1., 0., 0.,\n",
       "       0., 0., 0., 1., 1., 0., 1., 1., 0., 0., 1., 0., 0., 0., 0., 0., 0.,\n",
       "       0., 0., 0., 0., 0., 0., 0., 0., 0., 0., 0., 0., 0., 0., 0., 0., 0.,\n",
       "       0., 0., 0., 0., 1., 0., 0., 0., 0., 0., 0., 0., 0., 0., 1., 0., 0.,\n",
       "       1., 0., 0., 1., 0., 0., 0., 0., 0., 1., 0., 0., 0., 0., 0., 0., 0.,\n",
       "       0., 0., 0., 0., 0., 0., 0., 0., 0., 0., 0., 0., 1., 1., 0., 0., 0.,\n",
       "       1., 0., 0., 0., 0., 0., 0., 0., 0., 0., 0., 0., 1., 0., 0., 1., 1.,\n",
       "       0., 0., 0., 0., 0., 0., 1., 0., 0., 0., 0., 0., 0., 1., 0., 1., 0.,\n",
       "       0., 1., 1., 0., 0., 0., 0., 0., 0., 0., 0., 0., 0., 0., 0., 0., 0.,\n",
       "       0., 1., 0., 0., 0., 0., 0., 0., 0., 1., 0., 0., 0., 1., 0., 0., 0.,\n",
       "       0., 1., 0., 0., 0., 0., 0., 1., 0., 1., 0., 0., 0., 0., 0., 0., 0.,\n",
       "       0., 0., 1., 0., 1., 0., 0., 0., 0., 0., 0., 0., 0., 0., 0., 0., 0.,\n",
       "       0., 0., 0.])"
      ]
     },
     "execution_count": 10,
     "metadata": {},
     "output_type": "execute_result"
    }
   ],
   "source": [
    "Pr_x_given_y_equalsTo_0_result"
   ]
  },
  {
   "cell_type": "code",
   "execution_count": 11,
   "id": "bbd7d886",
   "metadata": {},
   "outputs": [
    {
     "data": {
      "text/plain": [
       "0.9310344827586207"
      ]
     },
     "execution_count": 11,
     "metadata": {},
     "output_type": "execute_result"
    }
   ],
   "source": [
    "np.count_nonzero(Pr_x_given_y_equalsTo_1_result == 1)/232"
   ]
  },
  {
   "cell_type": "code",
   "execution_count": 12,
   "id": "aa2a74ff",
   "metadata": {},
   "outputs": [
    {
     "data": {
      "text/plain": [
       "0.8102836879432624"
      ]
     },
     "execution_count": 12,
     "metadata": {},
     "output_type": "execute_result"
    }
   ],
   "source": [
    "np.count_nonzero(Pr_x_given_y_equalsTo_0_result == 0)/564"
   ]
  },
  {
   "cell_type": "code",
   "execution_count": null,
   "id": "808b88d4",
   "metadata": {},
   "outputs": [],
   "source": []
  }
 ],
 "metadata": {
  "kernelspec": {
   "display_name": "Python 3 (ipykernel)",
   "language": "python",
   "name": "python3"
  },
  "language_info": {
   "codemirror_mode": {
    "name": "ipython",
    "version": 3
   },
   "file_extension": ".py",
   "mimetype": "text/x-python",
   "name": "python",
   "nbconvert_exporter": "python",
   "pygments_lexer": "ipython3",
   "version": "3.9.7"
  }
 },
 "nbformat": 4,
 "nbformat_minor": 5
}
